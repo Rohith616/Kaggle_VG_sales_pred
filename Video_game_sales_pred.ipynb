{
  "nbformat": 4,
  "nbformat_minor": 0,
  "metadata": {
    "colab": {
      "name": "Video game sales pred.ipynb",
      "provenance": [],
      "collapsed_sections": [],
      "authorship_tag": "ABX9TyNuMEMzdZpC6ZmChOfSwDlp",
      "include_colab_link": true
    },
    "kernelspec": {
      "name": "python3",
      "display_name": "Python 3"
    },
    "language_info": {
      "name": "python"
    }
  },
  "cells": [
    {
      "cell_type": "markdown",
      "metadata": {
        "id": "view-in-github",
        "colab_type": "text"
      },
      "source": [
        "<a href=\"https://colab.research.google.com/github/Rohithtechis/Kaggle_VG_sales_pred/blob/main/Video_game_sales_pred.ipynb\" target=\"_parent\"><img src=\"https://colab.research.google.com/assets/colab-badge.svg\" alt=\"Open In Colab\"/></a>"
      ]
    },
    {
      "cell_type": "code",
      "metadata": {
        "id": "B5jDi1d6jWp3"
      },
      "source": [
        "import pandas as pd\n",
        "import numpy as np\n",
        "\n",
        "import warnings\n",
        "warnings.filterwarnings('ignore')\n",
        "\n",
        "import seaborn as sns\n",
        "import matplotlib.pyplot as plt\n",
        "%matplotlib inline\n",
        "sns.set(style='white', color_codes=True)"
      ],
      "execution_count": null,
      "outputs": []
    },
    {
      "cell_type": "code",
      "metadata": {
        "colab": {
          "base_uri": "https://localhost:8080/",
          "height": 292
        },
        "id": "upNpDpqYk1PH",
        "outputId": "0227f30c-2a9c-433b-88e9-7939b241ac2a"
      },
      "source": [
        "data=pd.read_csv('/content/vgsales.csv')\n",
        "data.head()"
      ],
      "execution_count": null,
      "outputs": [
        {
          "output_type": "execute_result",
          "data": {
            "text/html": [
              "<div>\n",
              "<style scoped>\n",
              "    .dataframe tbody tr th:only-of-type {\n",
              "        vertical-align: middle;\n",
              "    }\n",
              "\n",
              "    .dataframe tbody tr th {\n",
              "        vertical-align: top;\n",
              "    }\n",
              "\n",
              "    .dataframe thead th {\n",
              "        text-align: right;\n",
              "    }\n",
              "</style>\n",
              "<table border=\"1\" class=\"dataframe\">\n",
              "  <thead>\n",
              "    <tr style=\"text-align: right;\">\n",
              "      <th></th>\n",
              "      <th>Rank</th>\n",
              "      <th>Name</th>\n",
              "      <th>Platform</th>\n",
              "      <th>Year</th>\n",
              "      <th>Genre</th>\n",
              "      <th>Publisher</th>\n",
              "      <th>NA_Sales</th>\n",
              "      <th>EU_Sales</th>\n",
              "      <th>JP_Sales</th>\n",
              "      <th>Other_Sales</th>\n",
              "      <th>Global_Sales</th>\n",
              "    </tr>\n",
              "  </thead>\n",
              "  <tbody>\n",
              "    <tr>\n",
              "      <th>0</th>\n",
              "      <td>1</td>\n",
              "      <td>Wii Sports</td>\n",
              "      <td>Wii</td>\n",
              "      <td>2006.0</td>\n",
              "      <td>Sports</td>\n",
              "      <td>Nintendo</td>\n",
              "      <td>41.49</td>\n",
              "      <td>29.02</td>\n",
              "      <td>3.77</td>\n",
              "      <td>8.46</td>\n",
              "      <td>82.74</td>\n",
              "    </tr>\n",
              "    <tr>\n",
              "      <th>1</th>\n",
              "      <td>2</td>\n",
              "      <td>Super Mario Bros.</td>\n",
              "      <td>NES</td>\n",
              "      <td>1985.0</td>\n",
              "      <td>Platform</td>\n",
              "      <td>Nintendo</td>\n",
              "      <td>29.08</td>\n",
              "      <td>3.58</td>\n",
              "      <td>6.81</td>\n",
              "      <td>0.77</td>\n",
              "      <td>40.24</td>\n",
              "    </tr>\n",
              "    <tr>\n",
              "      <th>2</th>\n",
              "      <td>3</td>\n",
              "      <td>Mario Kart Wii</td>\n",
              "      <td>Wii</td>\n",
              "      <td>2008.0</td>\n",
              "      <td>Racing</td>\n",
              "      <td>Nintendo</td>\n",
              "      <td>15.85</td>\n",
              "      <td>12.88</td>\n",
              "      <td>3.79</td>\n",
              "      <td>3.31</td>\n",
              "      <td>35.82</td>\n",
              "    </tr>\n",
              "    <tr>\n",
              "      <th>3</th>\n",
              "      <td>4</td>\n",
              "      <td>Wii Sports Resort</td>\n",
              "      <td>Wii</td>\n",
              "      <td>2009.0</td>\n",
              "      <td>Sports</td>\n",
              "      <td>Nintendo</td>\n",
              "      <td>15.75</td>\n",
              "      <td>11.01</td>\n",
              "      <td>3.28</td>\n",
              "      <td>2.96</td>\n",
              "      <td>33.00</td>\n",
              "    </tr>\n",
              "    <tr>\n",
              "      <th>4</th>\n",
              "      <td>5</td>\n",
              "      <td>Pokemon Red/Pokemon Blue</td>\n",
              "      <td>GB</td>\n",
              "      <td>1996.0</td>\n",
              "      <td>Role-Playing</td>\n",
              "      <td>Nintendo</td>\n",
              "      <td>11.27</td>\n",
              "      <td>8.89</td>\n",
              "      <td>10.22</td>\n",
              "      <td>1.00</td>\n",
              "      <td>31.37</td>\n",
              "    </tr>\n",
              "  </tbody>\n",
              "</table>\n",
              "</div>"
            ],
            "text/plain": [
              "   Rank                      Name Platform  ...  JP_Sales Other_Sales Global_Sales\n",
              "0     1                Wii Sports      Wii  ...      3.77        8.46        82.74\n",
              "1     2         Super Mario Bros.      NES  ...      6.81        0.77        40.24\n",
              "2     3            Mario Kart Wii      Wii  ...      3.79        3.31        35.82\n",
              "3     4         Wii Sports Resort      Wii  ...      3.28        2.96        33.00\n",
              "4     5  Pokemon Red/Pokemon Blue       GB  ...     10.22        1.00        31.37\n",
              "\n",
              "[5 rows x 11 columns]"
            ]
          },
          "metadata": {},
          "execution_count": 47
        }
      ]
    },
    {
      "cell_type": "code",
      "metadata": {
        "colab": {
          "base_uri": "https://localhost:8080/"
        },
        "id": "GzRjak0Zm1cb",
        "outputId": "5528c810-af54-4a4c-b6ea-f97eea820957"
      },
      "source": [
        "data.shape"
      ],
      "execution_count": null,
      "outputs": [
        {
          "output_type": "execute_result",
          "data": {
            "text/plain": [
              "(16598, 11)"
            ]
          },
          "metadata": {},
          "execution_count": 48
        }
      ]
    },
    {
      "cell_type": "code",
      "metadata": {
        "colab": {
          "base_uri": "https://localhost:8080/",
          "height": 317
        },
        "id": "nrSL1sq-m6X4",
        "outputId": "e81dce85-e596-43ec-9c8f-3354ddc70639"
      },
      "source": [
        "data.describe()"
      ],
      "execution_count": null,
      "outputs": [
        {
          "output_type": "execute_result",
          "data": {
            "text/html": [
              "<div>\n",
              "<style scoped>\n",
              "    .dataframe tbody tr th:only-of-type {\n",
              "        vertical-align: middle;\n",
              "    }\n",
              "\n",
              "    .dataframe tbody tr th {\n",
              "        vertical-align: top;\n",
              "    }\n",
              "\n",
              "    .dataframe thead th {\n",
              "        text-align: right;\n",
              "    }\n",
              "</style>\n",
              "<table border=\"1\" class=\"dataframe\">\n",
              "  <thead>\n",
              "    <tr style=\"text-align: right;\">\n",
              "      <th></th>\n",
              "      <th>Rank</th>\n",
              "      <th>Year</th>\n",
              "      <th>NA_Sales</th>\n",
              "      <th>EU_Sales</th>\n",
              "      <th>JP_Sales</th>\n",
              "      <th>Other_Sales</th>\n",
              "      <th>Global_Sales</th>\n",
              "    </tr>\n",
              "  </thead>\n",
              "  <tbody>\n",
              "    <tr>\n",
              "      <th>count</th>\n",
              "      <td>16598.000000</td>\n",
              "      <td>16327.000000</td>\n",
              "      <td>16598.000000</td>\n",
              "      <td>16598.000000</td>\n",
              "      <td>16598.000000</td>\n",
              "      <td>16598.000000</td>\n",
              "      <td>16598.000000</td>\n",
              "    </tr>\n",
              "    <tr>\n",
              "      <th>mean</th>\n",
              "      <td>8300.605254</td>\n",
              "      <td>2006.406443</td>\n",
              "      <td>0.264667</td>\n",
              "      <td>0.146652</td>\n",
              "      <td>0.077782</td>\n",
              "      <td>0.048063</td>\n",
              "      <td>0.537441</td>\n",
              "    </tr>\n",
              "    <tr>\n",
              "      <th>std</th>\n",
              "      <td>4791.853933</td>\n",
              "      <td>5.828981</td>\n",
              "      <td>0.816683</td>\n",
              "      <td>0.505351</td>\n",
              "      <td>0.309291</td>\n",
              "      <td>0.188588</td>\n",
              "      <td>1.555028</td>\n",
              "    </tr>\n",
              "    <tr>\n",
              "      <th>min</th>\n",
              "      <td>1.000000</td>\n",
              "      <td>1980.000000</td>\n",
              "      <td>0.000000</td>\n",
              "      <td>0.000000</td>\n",
              "      <td>0.000000</td>\n",
              "      <td>0.000000</td>\n",
              "      <td>0.010000</td>\n",
              "    </tr>\n",
              "    <tr>\n",
              "      <th>25%</th>\n",
              "      <td>4151.250000</td>\n",
              "      <td>2003.000000</td>\n",
              "      <td>0.000000</td>\n",
              "      <td>0.000000</td>\n",
              "      <td>0.000000</td>\n",
              "      <td>0.000000</td>\n",
              "      <td>0.060000</td>\n",
              "    </tr>\n",
              "    <tr>\n",
              "      <th>50%</th>\n",
              "      <td>8300.500000</td>\n",
              "      <td>2007.000000</td>\n",
              "      <td>0.080000</td>\n",
              "      <td>0.020000</td>\n",
              "      <td>0.000000</td>\n",
              "      <td>0.010000</td>\n",
              "      <td>0.170000</td>\n",
              "    </tr>\n",
              "    <tr>\n",
              "      <th>75%</th>\n",
              "      <td>12449.750000</td>\n",
              "      <td>2010.000000</td>\n",
              "      <td>0.240000</td>\n",
              "      <td>0.110000</td>\n",
              "      <td>0.040000</td>\n",
              "      <td>0.040000</td>\n",
              "      <td>0.470000</td>\n",
              "    </tr>\n",
              "    <tr>\n",
              "      <th>max</th>\n",
              "      <td>16600.000000</td>\n",
              "      <td>2020.000000</td>\n",
              "      <td>41.490000</td>\n",
              "      <td>29.020000</td>\n",
              "      <td>10.220000</td>\n",
              "      <td>10.570000</td>\n",
              "      <td>82.740000</td>\n",
              "    </tr>\n",
              "  </tbody>\n",
              "</table>\n",
              "</div>"
            ],
            "text/plain": [
              "               Rank          Year  ...   Other_Sales  Global_Sales\n",
              "count  16598.000000  16327.000000  ...  16598.000000  16598.000000\n",
              "mean    8300.605254   2006.406443  ...      0.048063      0.537441\n",
              "std     4791.853933      5.828981  ...      0.188588      1.555028\n",
              "min        1.000000   1980.000000  ...      0.000000      0.010000\n",
              "25%     4151.250000   2003.000000  ...      0.000000      0.060000\n",
              "50%     8300.500000   2007.000000  ...      0.010000      0.170000\n",
              "75%    12449.750000   2010.000000  ...      0.040000      0.470000\n",
              "max    16600.000000   2020.000000  ...     10.570000     82.740000\n",
              "\n",
              "[8 rows x 7 columns]"
            ]
          },
          "metadata": {},
          "execution_count": 49
        }
      ]
    },
    {
      "cell_type": "code",
      "metadata": {
        "colab": {
          "base_uri": "https://localhost:8080/"
        },
        "id": "NOrVqyYvmRRx",
        "outputId": "6846532f-77d6-41e5-c5a1-26fe9e8a9c05"
      },
      "source": [
        "data.isna().sum()"
      ],
      "execution_count": null,
      "outputs": [
        {
          "output_type": "execute_result",
          "data": {
            "text/plain": [
              "Rank              0\n",
              "Name              0\n",
              "Platform          0\n",
              "Year            271\n",
              "Genre             0\n",
              "Publisher        58\n",
              "NA_Sales          0\n",
              "EU_Sales          0\n",
              "JP_Sales          0\n",
              "Other_Sales       0\n",
              "Global_Sales      0\n",
              "dtype: int64"
            ]
          },
          "metadata": {},
          "execution_count": 50
        }
      ]
    },
    {
      "cell_type": "code",
      "metadata": {
        "id": "Gw5ZXh5UmRUP"
      },
      "source": [
        "data=data.dropna()\n"
      ],
      "execution_count": null,
      "outputs": []
    },
    {
      "cell_type": "code",
      "metadata": {
        "colab": {
          "base_uri": "https://localhost:8080/"
        },
        "id": "7v2MKaq1mRWq",
        "outputId": "e212d7b2-8600-4564-9f90-999a3701fdd0"
      },
      "source": [
        "data.isna().sum()"
      ],
      "execution_count": null,
      "outputs": [
        {
          "output_type": "execute_result",
          "data": {
            "text/plain": [
              "Rank            0\n",
              "Name            0\n",
              "Platform        0\n",
              "Year            0\n",
              "Genre           0\n",
              "Publisher       0\n",
              "NA_Sales        0\n",
              "EU_Sales        0\n",
              "JP_Sales        0\n",
              "Other_Sales     0\n",
              "Global_Sales    0\n",
              "dtype: int64"
            ]
          },
          "metadata": {},
          "execution_count": 52
        }
      ]
    },
    {
      "cell_type": "code",
      "metadata": {
        "colab": {
          "base_uri": "https://localhost:8080/",
          "height": 204
        },
        "id": "-KhidJPCmRYz",
        "outputId": "681b43dd-371a-42ed-8512-813670f2b94f"
      },
      "source": [
        "data_cat=data.select_dtypes(include='object')\n",
        "data_cat.head()"
      ],
      "execution_count": null,
      "outputs": [
        {
          "output_type": "execute_result",
          "data": {
            "text/html": [
              "<div>\n",
              "<style scoped>\n",
              "    .dataframe tbody tr th:only-of-type {\n",
              "        vertical-align: middle;\n",
              "    }\n",
              "\n",
              "    .dataframe tbody tr th {\n",
              "        vertical-align: top;\n",
              "    }\n",
              "\n",
              "    .dataframe thead th {\n",
              "        text-align: right;\n",
              "    }\n",
              "</style>\n",
              "<table border=\"1\" class=\"dataframe\">\n",
              "  <thead>\n",
              "    <tr style=\"text-align: right;\">\n",
              "      <th></th>\n",
              "      <th>Name</th>\n",
              "      <th>Platform</th>\n",
              "      <th>Genre</th>\n",
              "      <th>Publisher</th>\n",
              "    </tr>\n",
              "  </thead>\n",
              "  <tbody>\n",
              "    <tr>\n",
              "      <th>0</th>\n",
              "      <td>Wii Sports</td>\n",
              "      <td>Wii</td>\n",
              "      <td>Sports</td>\n",
              "      <td>Nintendo</td>\n",
              "    </tr>\n",
              "    <tr>\n",
              "      <th>1</th>\n",
              "      <td>Super Mario Bros.</td>\n",
              "      <td>NES</td>\n",
              "      <td>Platform</td>\n",
              "      <td>Nintendo</td>\n",
              "    </tr>\n",
              "    <tr>\n",
              "      <th>2</th>\n",
              "      <td>Mario Kart Wii</td>\n",
              "      <td>Wii</td>\n",
              "      <td>Racing</td>\n",
              "      <td>Nintendo</td>\n",
              "    </tr>\n",
              "    <tr>\n",
              "      <th>3</th>\n",
              "      <td>Wii Sports Resort</td>\n",
              "      <td>Wii</td>\n",
              "      <td>Sports</td>\n",
              "      <td>Nintendo</td>\n",
              "    </tr>\n",
              "    <tr>\n",
              "      <th>4</th>\n",
              "      <td>Pokemon Red/Pokemon Blue</td>\n",
              "      <td>GB</td>\n",
              "      <td>Role-Playing</td>\n",
              "      <td>Nintendo</td>\n",
              "    </tr>\n",
              "  </tbody>\n",
              "</table>\n",
              "</div>"
            ],
            "text/plain": [
              "                       Name Platform         Genre Publisher\n",
              "0                Wii Sports      Wii        Sports  Nintendo\n",
              "1         Super Mario Bros.      NES      Platform  Nintendo\n",
              "2            Mario Kart Wii      Wii        Racing  Nintendo\n",
              "3         Wii Sports Resort      Wii        Sports  Nintendo\n",
              "4  Pokemon Red/Pokemon Blue       GB  Role-Playing  Nintendo"
            ]
          },
          "metadata": {},
          "execution_count": 53
        }
      ]
    },
    {
      "cell_type": "code",
      "metadata": {
        "id": "f_FN_IMimRcq"
      },
      "source": [
        "#from sklearn.preprocessing import LabelEncoder\n",
        "#en=LabelEncoder()\n",
        "#data['Name']=en.fit_transform(data['Name'])\n",
        "#data['Platform']=en.fit_transform(data['Platform'])\n",
        "#data['Genre']=en.fit_transform(data['Genre'])\n",
        "#data['Publisher']=en.fit_transform(data['Publisher'])\n"
      ],
      "execution_count": null,
      "outputs": []
    },
    {
      "cell_type": "code",
      "metadata": {
        "id": "wtPow3wgqJD6"
      },
      "source": [
        "from sklearn.preprocessing import OneHotEncoder\n",
        "en = OneHotEncoder()\n",
        "data['Name']=en.fit_transform(data['Name'].values.reshape(-1,1)).toarray()\n",
        "data['Platform']=en.fit_transform(data['Platform'].values.reshape(-1,1)).toarray()\n",
        "data['Genre']=en.fit_transform(data['Genre'].values.reshape(-1,1)).toarray()\n",
        "data['Publisher']=en.fit_transform(data['Publisher'].values.reshape(-1,1)).toarray()"
      ],
      "execution_count": null,
      "outputs": []
    },
    {
      "cell_type": "code",
      "metadata": {
        "colab": {
          "base_uri": "https://localhost:8080/",
          "height": 224
        },
        "id": "cW6li0HaqHap",
        "outputId": "b2d70c3b-03e4-460a-f073-3321bd12deaf"
      },
      "source": [
        "data.tail()"
      ],
      "execution_count": null,
      "outputs": [
        {
          "output_type": "execute_result",
          "data": {
            "text/html": [
              "<div>\n",
              "<style scoped>\n",
              "    .dataframe tbody tr th:only-of-type {\n",
              "        vertical-align: middle;\n",
              "    }\n",
              "\n",
              "    .dataframe tbody tr th {\n",
              "        vertical-align: top;\n",
              "    }\n",
              "\n",
              "    .dataframe thead th {\n",
              "        text-align: right;\n",
              "    }\n",
              "</style>\n",
              "<table border=\"1\" class=\"dataframe\">\n",
              "  <thead>\n",
              "    <tr style=\"text-align: right;\">\n",
              "      <th></th>\n",
              "      <th>Rank</th>\n",
              "      <th>Name</th>\n",
              "      <th>Platform</th>\n",
              "      <th>Year</th>\n",
              "      <th>Genre</th>\n",
              "      <th>Publisher</th>\n",
              "      <th>NA_Sales</th>\n",
              "      <th>EU_Sales</th>\n",
              "      <th>JP_Sales</th>\n",
              "      <th>Other_Sales</th>\n",
              "      <th>Global_Sales</th>\n",
              "    </tr>\n",
              "  </thead>\n",
              "  <tbody>\n",
              "    <tr>\n",
              "      <th>16593</th>\n",
              "      <td>16596</td>\n",
              "      <td>0.0</td>\n",
              "      <td>0.0</td>\n",
              "      <td>2002.0</td>\n",
              "      <td>0.0</td>\n",
              "      <td>0.0</td>\n",
              "      <td>0.01</td>\n",
              "      <td>0.00</td>\n",
              "      <td>0.0</td>\n",
              "      <td>0.0</td>\n",
              "      <td>0.01</td>\n",
              "    </tr>\n",
              "    <tr>\n",
              "      <th>16594</th>\n",
              "      <td>16597</td>\n",
              "      <td>0.0</td>\n",
              "      <td>0.0</td>\n",
              "      <td>2003.0</td>\n",
              "      <td>0.0</td>\n",
              "      <td>0.0</td>\n",
              "      <td>0.01</td>\n",
              "      <td>0.00</td>\n",
              "      <td>0.0</td>\n",
              "      <td>0.0</td>\n",
              "      <td>0.01</td>\n",
              "    </tr>\n",
              "    <tr>\n",
              "      <th>16595</th>\n",
              "      <td>16598</td>\n",
              "      <td>0.0</td>\n",
              "      <td>0.0</td>\n",
              "      <td>2008.0</td>\n",
              "      <td>0.0</td>\n",
              "      <td>0.0</td>\n",
              "      <td>0.00</td>\n",
              "      <td>0.00</td>\n",
              "      <td>0.0</td>\n",
              "      <td>0.0</td>\n",
              "      <td>0.01</td>\n",
              "    </tr>\n",
              "    <tr>\n",
              "      <th>16596</th>\n",
              "      <td>16599</td>\n",
              "      <td>0.0</td>\n",
              "      <td>0.0</td>\n",
              "      <td>2010.0</td>\n",
              "      <td>0.0</td>\n",
              "      <td>0.0</td>\n",
              "      <td>0.00</td>\n",
              "      <td>0.01</td>\n",
              "      <td>0.0</td>\n",
              "      <td>0.0</td>\n",
              "      <td>0.01</td>\n",
              "    </tr>\n",
              "    <tr>\n",
              "      <th>16597</th>\n",
              "      <td>16600</td>\n",
              "      <td>0.0</td>\n",
              "      <td>0.0</td>\n",
              "      <td>2003.0</td>\n",
              "      <td>0.0</td>\n",
              "      <td>0.0</td>\n",
              "      <td>0.01</td>\n",
              "      <td>0.00</td>\n",
              "      <td>0.0</td>\n",
              "      <td>0.0</td>\n",
              "      <td>0.01</td>\n",
              "    </tr>\n",
              "  </tbody>\n",
              "</table>\n",
              "</div>"
            ],
            "text/plain": [
              "        Rank  Name  Platform  ...  JP_Sales  Other_Sales  Global_Sales\n",
              "16593  16596   0.0       0.0  ...       0.0          0.0          0.01\n",
              "16594  16597   0.0       0.0  ...       0.0          0.0          0.01\n",
              "16595  16598   0.0       0.0  ...       0.0          0.0          0.01\n",
              "16596  16599   0.0       0.0  ...       0.0          0.0          0.01\n",
              "16597  16600   0.0       0.0  ...       0.0          0.0          0.01\n",
              "\n",
              "[5 rows x 11 columns]"
            ]
          },
          "metadata": {},
          "execution_count": 56
        }
      ]
    },
    {
      "cell_type": "code",
      "metadata": {
        "colab": {
          "base_uri": "https://localhost:8080/",
          "height": 285
        },
        "id": "HiS4yzZer0wL",
        "outputId": "0bc90d8b-506b-4c68-f37b-a3b01a397b7a"
      },
      "source": [
        "sns.boxplot(data['NA_Sales'])\n",
        "plt.show()"
      ],
      "execution_count": null,
      "outputs": [
        {
          "output_type": "display_data",
          "data": {
            "image/png": "[encoded data removed]",
            "text/plain": [
              "<Figure size 432x288 with 1 Axes>"
            ]
          },
          "metadata": {}
        }
      ]
    },
    {
      "cell_type": "code",
      "metadata": {
        "colab": {
          "base_uri": "https://localhost:8080/"
        },
        "id": "s128vaLhtE_8",
        "outputId": "6d7f6a87-0829-4804-b0da-bf11992d6c1a"
      },
      "source": [
        "Q1 = np.percentile(data['NA_Sales'], 25, interpolation = 'midpoint')  \n",
        "Q2 = np.percentile(data['NA_Sales'], 50, interpolation = 'midpoint')  \n",
        "Q3 = np.percentile(data['NA_Sales'], 75, interpolation = 'midpoint')     \n",
        "IQR = Q3 - Q1 \n",
        "low_lim = Q1 - 1.5 * IQR \n",
        "up_lim = Q3 + 1.5 * IQR\n",
        "print('low limit:', low_lim) \n",
        "print('upper limit:', up_lim)"
      ],
      "execution_count": null,
      "outputs": [
        {
          "output_type": "stream",
          "name": "stdout",
          "text": [
            "low limit: -0.36\n",
            "upper limit: 0.6\n"
          ]
        }
      ]
    },
    {
      "cell_type": "code",
      "metadata": {
        "id": "MfSIKks-tLRw"
      },
      "source": [
        "data=data[data.NA_Sales<up_lim]\n",
        "data=data[data.NA_Sales>low_lim]"
      ],
      "execution_count": null,
      "outputs": []
    },
    {
      "cell_type": "code",
      "metadata": {
        "colab": {
          "base_uri": "https://localhost:8080/",
          "height": 285
        },
        "id": "Xq-W7wlGr0y9",
        "outputId": "70feb2e0-f15a-4f82-f042-0b34fbdc728b"
      },
      "source": [
        "sns.boxplot(data['EU_Sales'])\n",
        "plt.show()"
      ],
      "execution_count": null,
      "outputs": [
        {
          "output_type": "display_data",
          "data": {
            "image/png": "[encoded data removed]",
            "text/plain": [
              "<Figure size 432x288 with 1 Axes>"
            ]
          },
          "metadata": {}
        }
      ]
    },
    {
      "cell_type": "code",
      "metadata": {
        "colab": {
          "base_uri": "https://localhost:8080/"
        },
        "id": "MCScFVNltlTq",
        "outputId": "ee453b60-f02e-43f8-87ba-b3bbf3d1077d"
      },
      "source": [
        "Q1 = np.percentile(data['EU_Sales'], 25, interpolation = 'midpoint')  \n",
        "Q2 = np.percentile(data['EU_Sales'], 50, interpolation = 'midpoint')  \n",
        "Q3 = np.percentile(data['EU_Sales'], 75, interpolation = 'midpoint')     \n",
        "IQR = Q3 - Q1 \n",
        "low_lim = Q1 - 1.5 * IQR \n",
        "up_lim = Q3 + 1.5 * IQR\n",
        "print('low limit:', low_lim) \n",
        "print('upper limit:', up_lim)"
      ],
      "execution_count": null,
      "outputs": [
        {
          "output_type": "stream",
          "name": "stdout",
          "text": [
            "low limit: -0.10500000000000001\n",
            "upper limit: 0.17500000000000002\n"
          ]
        }
      ]
    },
    {
      "cell_type": "code",
      "metadata": {
        "id": "vyg9jLa-toOA"
      },
      "source": [
        "data=data[data.EU_Sales<up_lim]\n",
        "data=data[data.EU_Sales>low_lim]"
      ],
      "execution_count": null,
      "outputs": []
    },
    {
      "cell_type": "code",
      "metadata": {
        "colab": {
          "base_uri": "https://localhost:8080/",
          "height": 285
        },
        "id": "W2QRlV3Gr04A",
        "outputId": "73c8c701-8ca7-4535-c050-d720b4fa2bb6"
      },
      "source": [
        "sns.boxplot(data['Other_Sales'])\n",
        "plt.show()"
      ],
      "execution_count": null,
      "outputs": [
        {
          "output_type": "display_data",
          "data": {
            "image/png": "[encoded data removed]",
            "text/plain": [
              "<Figure size 432x288 with 1 Axes>"
            ]
          },
          "metadata": {}
        }
      ]
    },
    {
      "cell_type": "code",
      "metadata": {
        "colab": {
          "base_uri": "https://localhost:8080/"
        },
        "id": "hhrEZa43t_fm",
        "outputId": "4ab11dd0-b016-4ee1-9a96-e6222398b1cb"
      },
      "source": [
        "Q1 = np.percentile(data['Other_Sales'], 25, interpolation = 'midpoint')  \n",
        "Q2 = np.percentile(data['Other_Sales'], 50, interpolation = 'midpoint')  \n",
        "Q3 = np.percentile(data['Other_Sales'], 75, interpolation = 'midpoint')     \n",
        "IQR = Q3 - Q1 \n",
        "low_lim = Q1 - 1.5 * IQR \n",
        "up_lim = Q3 + 1.5 * IQR\n",
        "print('low limit:', low_lim) \n",
        "print('upper limit:', up_lim)"
      ],
      "execution_count": null,
      "outputs": [
        {
          "output_type": "stream",
          "name": "stdout",
          "text": [
            "low limit: -0.03\n",
            "upper limit: 0.05\n"
          ]
        }
      ]
    },
    {
      "cell_type": "code",
      "metadata": {
        "id": "vcEinYbluFvQ"
      },
      "source": [
        "data=data[data.Other_Sales<up_lim]\n",
        "data=data[data.Other_Sales>low_lim]"
      ],
      "execution_count": null,
      "outputs": []
    },
    {
      "cell_type": "code",
      "metadata": {
        "colab": {
          "base_uri": "https://localhost:8080/"
        },
        "id": "f0uE4hJ_xkeW",
        "outputId": "a24c806e-62b4-4048-fde9-6d22bd036e2b"
      },
      "source": [
        "data.columns"
      ],
      "execution_count": null,
      "outputs": [
        {
          "output_type": "execute_result",
          "data": {
            "text/plain": [
              "Index(['Rank', 'Name', 'Platform', 'Year', 'Genre', 'Publisher', 'NA_Sales',\n",
              "       'EU_Sales', 'JP_Sales', 'Other_Sales', 'Global_Sales'],\n",
              "      dtype='object')"
            ]
          },
          "metadata": {},
          "execution_count": 66
        }
      ]
    },
    {
      "cell_type": "code",
      "metadata": {
        "id": "84IpKct516sY",
        "colab": {
          "base_uri": "https://localhost:8080/",
          "height": 410
        },
        "outputId": "6ed41c9e-6fc5-4a2c-cb36-f8755e1e1b3b"
      },
      "source": [
        "data.corr()\n"
      ],
      "execution_count": null,
      "outputs": [
        {
          "output_type": "execute_result",
          "data": {
            "text/html": [
              "<div>\n",
              "<style scoped>\n",
              "    .dataframe tbody tr th:only-of-type {\n",
              "        vertical-align: middle;\n",
              "    }\n",
              "\n",
              "    .dataframe tbody tr th {\n",
              "        vertical-align: top;\n",
              "    }\n",
              "\n",
              "    .dataframe thead th {\n",
              "        text-align: right;\n",
              "    }\n",
              "</style>\n",
              "<table border=\"1\" class=\"dataframe\">\n",
              "  <thead>\n",
              "    <tr style=\"text-align: right;\">\n",
              "      <th></th>\n",
              "      <th>Rank</th>\n",
              "      <th>Name</th>\n",
              "      <th>Platform</th>\n",
              "      <th>Year</th>\n",
              "      <th>Genre</th>\n",
              "      <th>Publisher</th>\n",
              "      <th>NA_Sales</th>\n",
              "      <th>EU_Sales</th>\n",
              "      <th>JP_Sales</th>\n",
              "      <th>Other_Sales</th>\n",
              "      <th>Global_Sales</th>\n",
              "    </tr>\n",
              "  </thead>\n",
              "  <tbody>\n",
              "    <tr>\n",
              "      <th>Rank</th>\n",
              "      <td>1.000000</td>\n",
              "      <td>-0.012980</td>\n",
              "      <td>-0.094304</td>\n",
              "      <td>0.266530</td>\n",
              "      <td>-0.012443</td>\n",
              "      <td>0.015819</td>\n",
              "      <td>-0.679408</td>\n",
              "      <td>-0.506370</td>\n",
              "      <td>-0.363392</td>\n",
              "      <td>-0.623028</td>\n",
              "      <td>-0.758803</td>\n",
              "    </tr>\n",
              "    <tr>\n",
              "      <th>Name</th>\n",
              "      <td>-0.012980</td>\n",
              "      <td>1.000000</td>\n",
              "      <td>-0.000712</td>\n",
              "      <td>-0.013257</td>\n",
              "      <td>-0.004373</td>\n",
              "      <td>-0.000141</td>\n",
              "      <td>0.006023</td>\n",
              "      <td>0.017587</td>\n",
              "      <td>0.003331</td>\n",
              "      <td>0.017785</td>\n",
              "      <td>0.010167</td>\n",
              "    </tr>\n",
              "    <tr>\n",
              "      <th>Platform</th>\n",
              "      <td>-0.094304</td>\n",
              "      <td>-0.000712</td>\n",
              "      <td>1.000000</td>\n",
              "      <td>-0.329500</td>\n",
              "      <td>0.078143</td>\n",
              "      <td>-0.001233</td>\n",
              "      <td>0.188693</td>\n",
              "      <td>-0.014367</td>\n",
              "      <td>-0.023409</td>\n",
              "      <td>-0.043878</td>\n",
              "      <td>0.068981</td>\n",
              "    </tr>\n",
              "    <tr>\n",
              "      <th>Year</th>\n",
              "      <td>0.266530</td>\n",
              "      <td>-0.013257</td>\n",
              "      <td>-0.329500</td>\n",
              "      <td>1.000000</td>\n",
              "      <td>0.133290</td>\n",
              "      <td>0.000671</td>\n",
              "      <td>-0.158368</td>\n",
              "      <td>-0.068783</td>\n",
              "      <td>-0.210618</td>\n",
              "      <td>0.061939</td>\n",
              "      <td>-0.264104</td>\n",
              "    </tr>\n",
              "    <tr>\n",
              "      <th>Genre</th>\n",
              "      <td>-0.012443</td>\n",
              "      <td>-0.004373</td>\n",
              "      <td>0.078143</td>\n",
              "      <td>0.133290</td>\n",
              "      <td>1.000000</td>\n",
              "      <td>-0.007574</td>\n",
              "      <td>0.030135</td>\n",
              "      <td>0.060042</td>\n",
              "      <td>-0.052566</td>\n",
              "      <td>0.030267</td>\n",
              "      <td>-0.017042</td>\n",
              "    </tr>\n",
              "    <tr>\n",
              "      <th>Publisher</th>\n",
              "      <td>0.015819</td>\n",
              "      <td>-0.000141</td>\n",
              "      <td>-0.001233</td>\n",
              "      <td>0.000671</td>\n",
              "      <td>-0.007574</td>\n",
              "      <td>1.000000</td>\n",
              "      <td>-0.008281</td>\n",
              "      <td>-0.005445</td>\n",
              "      <td>-0.004637</td>\n",
              "      <td>-0.012077</td>\n",
              "      <td>-0.009573</td>\n",
              "    </tr>\n",
              "    <tr>\n",
              "      <th>NA_Sales</th>\n",
              "      <td>-0.679408</td>\n",
              "      <td>0.006023</td>\n",
              "      <td>0.188693</td>\n",
              "      <td>-0.158368</td>\n",
              "      <td>0.030135</td>\n",
              "      <td>-0.008281</td>\n",
              "      <td>1.000000</td>\n",
              "      <td>0.456882</td>\n",
              "      <td>-0.083905</td>\n",
              "      <td>0.586798</td>\n",
              "      <td>0.531621</td>\n",
              "    </tr>\n",
              "    <tr>\n",
              "      <th>EU_Sales</th>\n",
              "      <td>-0.506370</td>\n",
              "      <td>0.017587</td>\n",
              "      <td>-0.014367</td>\n",
              "      <td>-0.068783</td>\n",
              "      <td>0.060042</td>\n",
              "      <td>-0.005445</td>\n",
              "      <td>0.456882</td>\n",
              "      <td>1.000000</td>\n",
              "      <td>-0.089518</td>\n",
              "      <td>0.631651</td>\n",
              "      <td>0.356000</td>\n",
              "    </tr>\n",
              "    <tr>\n",
              "      <th>JP_Sales</th>\n",
              "      <td>-0.363392</td>\n",
              "      <td>0.003331</td>\n",
              "      <td>-0.023409</td>\n",
              "      <td>-0.210618</td>\n",
              "      <td>-0.052566</td>\n",
              "      <td>-0.004637</td>\n",
              "      <td>-0.083905</td>\n",
              "      <td>-0.089518</td>\n",
              "      <td>1.000000</td>\n",
              "      <td>-0.040346</td>\n",
              "      <td>0.780230</td>\n",
              "    </tr>\n",
              "    <tr>\n",
              "      <th>Other_Sales</th>\n",
              "      <td>-0.623028</td>\n",
              "      <td>0.017785</td>\n",
              "      <td>-0.043878</td>\n",
              "      <td>0.061939</td>\n",
              "      <td>0.030267</td>\n",
              "      <td>-0.012077</td>\n",
              "      <td>0.586798</td>\n",
              "      <td>0.631651</td>\n",
              "      <td>-0.040346</td>\n",
              "      <td>1.000000</td>\n",
              "      <td>0.413071</td>\n",
              "    </tr>\n",
              "    <tr>\n",
              "      <th>Global_Sales</th>\n",
              "      <td>-0.758803</td>\n",
              "      <td>0.010167</td>\n",
              "      <td>0.068981</td>\n",
              "      <td>-0.264104</td>\n",
              "      <td>-0.017042</td>\n",
              "      <td>-0.009573</td>\n",
              "      <td>0.531621</td>\n",
              "      <td>0.356000</td>\n",
              "      <td>0.780230</td>\n",
              "      <td>0.413071</td>\n",
              "      <td>1.000000</td>\n",
              "    </tr>\n",
              "  </tbody>\n",
              "</table>\n",
              "</div>"
            ],
            "text/plain": [
              "                  Rank      Name  Platform  ...  JP_Sales  Other_Sales  Global_Sales\n",
              "Rank          1.000000 -0.012980 -0.094304  ... -0.363392    -0.623028     -0.758803\n",
              "Name         -0.012980  1.000000 -0.000712  ...  0.003331     0.017785      0.010167\n",
              "Platform     -0.094304 -0.000712  1.000000  ... -0.023409    -0.043878      0.068981\n",
              "Year          0.266530 -0.013257 -0.329500  ... -0.210618     0.061939     -0.264104\n",
              "Genre        -0.012443 -0.004373  0.078143  ... -0.052566     0.030267     -0.017042\n",
              "Publisher     0.015819 -0.000141 -0.001233  ... -0.004637    -0.012077     -0.009573\n",
              "NA_Sales     -0.679408  0.006023  0.188693  ... -0.083905     0.586798      0.531621\n",
              "EU_Sales     -0.506370  0.017587 -0.014367  ... -0.089518     0.631651      0.356000\n",
              "JP_Sales     -0.363392  0.003331 -0.023409  ...  1.000000    -0.040346      0.780230\n",
              "Other_Sales  -0.623028  0.017785 -0.043878  ... -0.040346     1.000000      0.413071\n",
              "Global_Sales -0.758803  0.010167  0.068981  ...  0.780230     0.413071      1.000000\n",
              "\n",
              "[11 rows x 11 columns]"
            ]
          },
          "metadata": {},
          "execution_count": 87
        }
      ]
    },
    {
      "cell_type": "code",
      "metadata": {
        "id": "S3UeHFzUmRiL"
      },
      "source": [
        "from sklearn.model_selection import train_test_split\n",
        "train, test=train_test_split(data,test_size=0.25)"
      ],
      "execution_count": null,
      "outputs": []
    },
    {
      "cell_type": "code",
      "metadata": {
        "id": "y3YxXbbApBUv"
      },
      "source": [
        "train_x=train.drop(['Global_Sales'],axis=1)\n",
        "train_y=train['Global_Sales']\n",
        "test_x=test.drop(['Global_Sales'],axis=1)\n",
        "test_y=test['Global_Sales']"
      ],
      "execution_count": null,
      "outputs": []
    },
    {
      "cell_type": "code",
      "metadata": {
        "colab": {
          "base_uri": "https://localhost:8080/"
        },
        "id": "FP-bCKUypBXA",
        "outputId": "be85a5bf-1b6d-42e3-a01d-df8eb0465db4"
      },
      "source": [
        "print('Dimension of train_x dataframe:',train_x.shape)\n",
        "print('Dimension of train_y dataframe:',train_y.shape)\n",
        "print('Dimension of test_x dataframe:',test_x.shape)\n",
        "print('Dimension of test_y dataframe:',test_y.shape)"
      ],
      "execution_count": null,
      "outputs": [
        {
          "output_type": "stream",
          "name": "stdout",
          "text": [
            "Dimension of train_x dataframe: (9214, 10)\n",
            "Dimension of train_y dataframe: (9214,)\n",
            "Dimension of test_x dataframe: (3072, 10)\n",
            "Dimension of test_y dataframe: (3072,)\n"
          ]
        }
      ]
    },
    {
      "cell_type": "code",
      "metadata": {
        "colab": {
          "base_uri": "https://localhost:8080/"
        },
        "id": "PuFX3GKouhDp",
        "outputId": "ef88a702-4639-45fe-e2b2-bd21cbaad225"
      },
      "source": [
        "from sklearn.preprocessing import StandardScaler\n",
        "# Initialise the Scaler\n",
        "scaler = StandardScaler()\n",
        "  \n",
        "# To scale data\n",
        "scaler.fit(data)\n",
        "from sklearn.preprocessing import normalize\n",
        "normalize(data)"
      ],
      "execution_count": null,
      "outputs": [
        {
          "output_type": "execute_result",
          "data": {
            "text/plain": [
              "array([[1.06357835e-01, 0.00000000e+00, 0.00000000e+00, ...,\n",
              "        2.40912863e-03, 0.00000000e+00, 2.40912863e-03],\n",
              "       [1.20612454e-01, 0.00000000e+00, 0.00000000e+00, ...,\n",
              "        2.03502495e-03, 9.92695098e-06, 2.21867354e-03],\n",
              "       [1.55528220e-01, 0.00000000e+00, 0.00000000e+00, ...,\n",
              "        1.87329517e-03, 0.00000000e+00, 1.92298470e-03],\n",
              "       ...,\n",
              "       [9.92761470e-01, 0.00000000e+00, 0.00000000e+00, ...,\n",
              "        0.00000000e+00, 0.00000000e+00, 5.98121141e-07],\n",
              "       [9.92748064e-01, 0.00000000e+00, 0.00000000e+00, ...,\n",
              "        0.00000000e+00, 0.00000000e+00, 5.98077031e-07],\n",
              "       [9.92798802e-01, 0.00000000e+00, 0.00000000e+00, ...,\n",
              "        0.00000000e+00, 0.00000000e+00, 5.98071567e-07]])"
            ]
          },
          "metadata": {},
          "execution_count": 70
        }
      ]
    },
    {
      "cell_type": "code",
      "metadata": {
        "colab": {
          "base_uri": "https://localhost:8080/"
        },
        "id": "SFDS9lpTpBYz",
        "outputId": "0ab78b55-020e-4351-dc94-615de8112e93"
      },
      "source": [
        "from sklearn.linear_model import LinearRegression\n",
        "ln_reg= LinearRegression()\n",
        "ln_reg.fit(train_x,train_y)"
      ],
      "execution_count": null,
      "outputs": [
        {
          "output_type": "execute_result",
          "data": {
            "text/plain": [
              "LinearRegression(copy_X=True, fit_intercept=True, n_jobs=None, normalize=False)"
            ]
          },
          "metadata": {},
          "execution_count": 71
        }
      ]
    },
    {
      "cell_type": "code",
      "metadata": {
        "colab": {
          "base_uri": "https://localhost:8080/"
        },
        "id": "J5Hquva7pBb9",
        "outputId": "ddd4c2fe-0ef9-4e05-9311-8136f2a0d070"
      },
      "source": [
        "from sklearn.metrics import mean_squared_error,mean_absolute_error, r2_score\n",
        "\n",
        "df_pred = ln_reg.predict(test_x)\n",
        "print(\"Accuracy: \", ln_reg.score(test_x,test_y))\n",
        "print('Mean Absolute Error of linear regression:',mean_absolute_error(df_pred, test_y))\n",
        "print('Mean Square Error of linear regression:', mean_squared_error(df_pred, test_y))\n",
        "print('R_Squared Score of linear regression:', r2_score(df_pred, test_y))"
      ],
      "execution_count": null,
      "outputs": [
        {
          "output_type": "stream",
          "name": "stdout",
          "text": [
            "Accuracy:  0.99955755441231\n",
            "Mean Absolute Error of linear regression: 0.0028765547964079\n",
            "Mean Square Error of linear regression: 2.1954840347225803e-05\n",
            "R_Squared Score of linear regression: 0.9995568180452803\n"
          ]
        }
      ]
    },
    {
      "cell_type": "code",
      "metadata": {
        "colab": {
          "base_uri": "https://localhost:8080/"
        },
        "id": "wXDNqIBuzSr5",
        "outputId": "a796a1be-a513-4398-96c0-64da1efcf71b"
      },
      "source": [
        "import xgboost as xgb\n",
        "\n",
        "from xgboost import XGBRegressor\n",
        "from xgboost import plot_importance\n",
        "xgbl=XGBRegressor()\n",
        "xgbl.fit(train_x,train_y)\n",
        "test_pred=xgbl.predict(test_x)\n",
        "xgbl_score=xgbl.score(test_x,test_y)\n",
        "print(\"The XGBoostclassifier model accuracy is {}\".format(xgbl_score))\n"
      ],
      "execution_count": null,
      "outputs": [
        {
          "output_type": "stream",
          "name": "stdout",
          "text": [
            "[06:22:44] WARNING: /workspace/src/objective/regression_obj.cu:152: reg:linear is now deprecated in favor of reg:squarederror.\n",
            "The XGBoostclassifier model accuracy is 0.9986248449725648\n"
          ]
        }
      ]
    },
    {
      "cell_type": "code",
      "metadata": {
        "colab": {
          "base_uri": "https://localhost:8080/"
        },
        "id": "jpCV-n2r0IAb",
        "outputId": "4dd34b13-7756-483e-d6e8-006baf0bef4b"
      },
      "source": [
        "from sklearn.ensemble import AdaBoostRegressor\n",
        "\n",
        "abcl = AdaBoostRegressor( n_estimators= 20)\n",
        "abcl = abcl.fit(train_x, train_y)\n",
        "\n",
        "test_pred = abcl.predict(test_x)\n",
        "abcl_score=abcl.score(test_x, test_y)\n",
        "print(\"The Adaboost Ensemble model accuracy is {}\".format(abcl_score))\n"
      ],
      "execution_count": null,
      "outputs": [
        {
          "output_type": "stream",
          "name": "stdout",
          "text": [
            "The Adaboost Ensemble model accuracy is 0.9666628323447702\n"
          ]
        }
      ]
    }
  ]
}